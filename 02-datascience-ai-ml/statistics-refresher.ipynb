{
 "cells": [
  {
   "cell_type": "markdown",
   "metadata": {},
   "source": [
    "# Statistics Refresher"
   ]
  },
  {
   "cell_type": "markdown",
   "metadata": {},
   "source": [
    "## Mean, Median, Mode\n"
   ]
  },
  {
   "cell_type": "markdown",
   "metadata": {},
   "source": [
    "### Mean\n",
    "* AKA average\n",
    "* Sum of all values divided by the number of values\n",
    "* Example: 1, 2, 3, 4, 5\n",
    "    * Mean = (1 + 2 + 3 + 4 + 5) / 5 = 3\n",
    "  * Example: 0, 2, 3, 2, 1, 0, 0, 2, 0\n",
    "    * Mean = (0 + 2 + 3 + 2 + 1 + 0 + 0 + 2 + 0) / 9 = 1.11"
   ]
  },
  {
   "cell_type": "markdown",
   "metadata": {},
   "source": [
    "### Median\n",
    "* The middle value when the values are ordered\n",
    "* Example: 1, 2, 3, 4, 5\n",
    "    * Median = 3\n",
    "* Example: 0, 2, 3, 2, 1, 0, 0, 2, 0\n",
    "    * sorted: 0, 0, 0, 0, 1, 2, 2, 2, 3\n",
    "    * Median = 1"
   ]
  },
  {
   "cell_type": "markdown",
   "metadata": {},
   "source": [
    "### Mode\n",
    "* The value that occurs most frequently\n",
    "* Example: 1, 2, 3, 4, 5\n",
    "    * No mode\n",
    "* Example: 0, 2, 3, 2, 1, 0, 0, 2, 0\n",
    "    * Mode = 0\n"
   ]
  },
  {
   "cell_type": "code",
   "execution_count": 1,
   "metadata": {},
   "outputs": [
    {
     "ename": "ModuleNotFoundError",
     "evalue": "No module named 'numpy'",
     "output_type": "error",
     "traceback": [
      "\u001b[0;31m---------------------------------------------------------------------------\u001b[0m",
      "\u001b[0;31mModuleNotFoundError\u001b[0m                       Traceback (most recent call last)",
      "\u001b[1;32m/home/guerrero/code/learning/advanced-python/02-datascience-ai-ml/statistics-refresher.ipynb Cell 6\u001b[0m line \u001b[0;36m2\n\u001b[1;32m      <a href='vscode-notebook-cell://ssh-remote%2Bworkstation/home/guerrero/code/learning/advanced-python/02-datascience-ai-ml/statistics-refresher.ipynb#W0sdnNjb2RlLXJlbW90ZQ%3D%3D?line=0'>1</a>\u001b[0m \u001b[39m# Using Mean Median and Mode in python\u001b[39;00m\n\u001b[0;32m----> <a href='vscode-notebook-cell://ssh-remote%2Bworkstation/home/guerrero/code/learning/advanced-python/02-datascience-ai-ml/statistics-refresher.ipynb#W0sdnNjb2RlLXJlbW90ZQ%3D%3D?line=1'>2</a>\u001b[0m \u001b[39mimport\u001b[39;00m \u001b[39mnumpy\u001b[39;00m \u001b[39mas\u001b[39;00m \u001b[39mnp\u001b[39;00m\n\u001b[1;32m      <a href='vscode-notebook-cell://ssh-remote%2Bworkstation/home/guerrero/code/learning/advanced-python/02-datascience-ai-ml/statistics-refresher.ipynb#W0sdnNjb2RlLXJlbW90ZQ%3D%3D?line=3'>4</a>\u001b[0m incomes \u001b[39m=\u001b[39m np\u001b[39m.\u001b[39mrandom\u001b[39m.\u001b[39mnormal(\u001b[39m27000\u001b[39m, \u001b[39m15000\u001b[39m, \u001b[39m10000\u001b[39m)\n\u001b[1;32m      <a href='vscode-notebook-cell://ssh-remote%2Bworkstation/home/guerrero/code/learning/advanced-python/02-datascience-ai-ml/statistics-refresher.ipynb#W0sdnNjb2RlLXJlbW90ZQ%3D%3D?line=4'>5</a>\u001b[0m np\u001b[39m.\u001b[39mmean(incomes)\n",
      "\u001b[0;31mModuleNotFoundError\u001b[0m: No module named 'numpy'"
     ]
    }
   ],
   "source": [
    "# Using Mean Median and Mode in python\n",
    "import numpy as np\n",
    "\n",
    "incomes = np.random.normal(27000, 15000, 10000)\n",
    "np.mean(incomes)"
   ]
  }
 ],
 "metadata": {
  "kernelspec": {
   "display_name": "masterpy",
   "language": "python",
   "name": "python3"
  },
  "language_info": {
   "codemirror_mode": {
    "name": "ipython",
    "version": 3
   },
   "file_extension": ".py",
   "mimetype": "text/x-python",
   "name": "python",
   "nbconvert_exporter": "python",
   "pygments_lexer": "ipython3",
   "version": "3.12.0+"
  }
 },
 "nbformat": 4,
 "nbformat_minor": 2
}

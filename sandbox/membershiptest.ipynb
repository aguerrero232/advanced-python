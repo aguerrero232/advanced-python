{
 "cells": [
  {
   "cell_type": "code",
   "execution_count": 11,
   "metadata": {},
   "outputs": [],
   "source": [
    "import string\n",
    "import time"
   ]
  },
  {
   "cell_type": "code",
   "execution_count": 12,
   "metadata": {},
   "outputs": [
    {
     "name": "stdout",
     "output_type": "stream",
     "text": [
      "asciletters: abcdefghijklmnopqrstuvwxyzABCDEFGHIJKLMNOPQRSTUVWXYZ\n",
      "asciletter_set: {'i', 'J', 'j', 'u', 'H', 'U', 'G', 'T', 'r', 'y', 'p', 'x', 'S', 'Y', 'g', 'f', 'e', 'B', 'k', 'v', 'I', 'z', 'W', 'n', 'w', 'b', 'O', 'C', 'q', 's', 'A', 'K', 'E', 'Z', 'd', 'R', 'l', 'X', 'V', 'P', 'h', 't', 'c', 'F', 'm', 'a', 'Q', 'M', 'D', 'L', 'o', 'N'}\n",
      "asciletter_list: ['a', 'b', 'c', 'd', 'e', 'f', 'g', 'h', 'i', 'j', 'k', 'l', 'm', 'n', 'o', 'p', 'q', 'r', 's', 't', 'u', 'v', 'w', 'x', 'y', 'z', 'A', 'B', 'C', 'D', 'E', 'F', 'G', 'H', 'I', 'J', 'K', 'L', 'M', 'N', 'O', 'P', 'Q', 'R', 'S', 'T', 'U', 'V', 'W', 'X', 'Y', 'Z']\n"
     ]
    }
   ],
   "source": [
    "asciletters = string.ascii_letters\n",
    "asciletter_set = set(asciletters)\n",
    "asciletter_list = list(asciletters)\n",
    "\n",
    "print(\"asciletters:\", asciletters)\n",
    "print(\"asciletter_set:\", asciletter_set)\n",
    "print(\"asciletter_list:\", asciletter_list)\n"
   ]
  },
  {
   "cell_type": "code",
   "execution_count": 16,
   "metadata": {},
   "outputs": [
    {
     "name": "stdout",
     "output_type": "stream",
     "text": [
      "list membership test: 5.635370691001299\n",
      "\n",
      "set membership test: 0.43861851800465956\n"
     ]
    }
   ],
   "source": [
    "def membership_test(n, container):\n",
    "    for i in range(n):\n",
    "        # just cares about in operator\n",
    "        if 'z' in container:\n",
    "            pass\n",
    "\n",
    "start = time.perf_counter()\n",
    "membership_test(10000000, asciletter_list) # pretty much the same for tuples\n",
    "end = time.perf_counter()\n",
    "\n",
    "print(\"list membership test:\", end - start)\n",
    "\n",
    "print(\"\")\n",
    "\n",
    "start = time.perf_counter()\n",
    "membership_test(10000000, asciletter_set)\n",
    "end = time.perf_counter()\n",
    "\n",
    "print(\"set membership test:\", end - start)\n",
    "\n"
   ]
  }
 ],
 "metadata": {
  "kernelspec": {
   "display_name": "masterpy",
   "language": "python",
   "name": "python3"
  },
  "language_info": {
   "codemirror_mode": {
    "name": "ipython",
    "version": 3
   },
   "file_extension": ".py",
   "mimetype": "text/x-python",
   "name": "python",
   "nbconvert_exporter": "python",
   "pygments_lexer": "ipython3",
   "version": "3.12.0+"
  }
 },
 "nbformat": 4,
 "nbformat_minor": 2
}

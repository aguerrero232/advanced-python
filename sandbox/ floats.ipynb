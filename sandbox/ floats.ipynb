{
 "cells": [
  {
   "cell_type": "markdown",
   "metadata": {},
   "source": [
    "# Floating Point Numbers"
   ]
  },
  {
   "cell_type": "markdown",
   "metadata": {},
   "source": [
    "## Decimal Representation\n",
    "\n",
    "Numbers can be represented as base 10 integers and fractions\n",
    "\n",
    "$$\n",
    "0.75 = 7/10 + 5/100 = 7 * 10^{-1} + 5 * 10^{-2}\n",
    "$$\n",
    "$$\n",
    "0.256 = 2/10 + 5/100 + 6/1000 = 2 * 10^{-1} + 5 * 10^{-2} + 6 * 10^{-3}\n",
    "$$\n",
    "$$\n",
    "123.456 = 1 * 100 + 2 * 10 + 3 * 1 + 4 * 1/10 + 5 * 1/100 + 6 * 1/1000 = 1 * 10^{2} + 2 * 10^{1} + 3 * 10^{0} + 4 * 10^{-1} + 5 * 10^{-2} + 6 * 10^{-3}\n",
    "$$\n"
   ]
  },
  {
   "cell_type": "markdown",
   "metadata": {},
   "source": [
    "\n",
    "### In general\n",
    "\n",
    "$$\n",
    "d = -1^{sign} \\sum_{i=-m}^n d_i * 10^i\n",
    "$$"
   ]
  },
  {
   "cell_type": "markdown",
   "metadata": {},
   "source": [
    "#### Some numbers cannot be represented using finite number of the above terms\n",
    "\n",
    "Numbers like $\\pi$ and $\\sqrt{2}$ cannot be represented using a finite number of terms.\n",
    "\n",
    "Even some rational numbers cannot be represented using a finite number of terms.\n",
    "- For example: $1/3$"
   ]
  }
 ],
 "metadata": {
  "kernelspec": {
   "display_name": "masterpy",
   "language": "python",
   "name": "python3"
  },
  "language_info": {
   "codemirror_mode": {
    "name": "ipython",
    "version": 3
   },
   "file_extension": ".py",
   "mimetype": "text/x-python",
   "name": "python",
   "nbconvert_exporter": "python",
   "pygments_lexer": "ipython3",
   "version": "3.12.0+"
  }
 },
 "nbformat": 4,
 "nbformat_minor": 2
}

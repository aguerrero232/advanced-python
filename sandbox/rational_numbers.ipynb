{
 "cells": [
  {
   "cell_type": "code",
   "execution_count": 3,
   "metadata": {},
   "outputs": [],
   "source": [
    "import math\n",
    "from fractions import Fraction"
   ]
  },
  {
   "cell_type": "code",
   "execution_count": 4,
   "metadata": {},
   "outputs": [
    {
     "name": "stdout",
     "output_type": "stream",
     "text": [
      "Help on class Fraction in module fractions:\n",
      "\n",
      "class Fraction(numbers.Rational)\n",
      " |  Fraction(numerator=0, denominator=None)\n",
      " |\n",
      " |  This class implements rational numbers.\n",
      " |\n",
      " |  In the two-argument form of the constructor, Fraction(8, 6) will\n",
      " |  produce a rational number equivalent to 4/3. Both arguments must\n",
      " |  be Rational. The numerator defaults to 0 and the denominator\n",
      " |  defaults to 1 so that Fraction(3) == 3 and Fraction() == 0.\n",
      " |\n",
      " |  Fractions can also be constructed from:\n",
      " |\n",
      " |    - numeric strings similar to those accepted by the\n",
      " |      float constructor (for example, '-2.3' or '1e10')\n",
      " |\n",
      " |    - strings of the form '123/456'\n",
      " |\n",
      " |    - float and Decimal instances\n",
      " |\n",
      " |    - other Rational instances (including integers)\n",
      " |\n",
      " |  Method resolution order:\n",
      " |      Fraction\n",
      " |      numbers.Rational\n",
      " |      numbers.Real\n",
      " |      numbers.Complex\n",
      " |      numbers.Number\n",
      " |      builtins.object\n",
      " |\n",
      " |  Methods defined here:\n",
      " |\n",
      " |  __abs__(a)\n",
      " |      abs(a)\n",
      " |\n",
      " |  __add__(a, b)\n",
      " |      a + b\n",
      " |\n",
      " |  __bool__(a)\n",
      " |      a != 0\n",
      " |\n",
      " |  __ceil__(a)\n",
      " |      math.ceil(a)\n",
      " |\n",
      " |  __copy__(self)\n",
      " |\n",
      " |  __deepcopy__(self, memo)\n",
      " |\n",
      " |  __divmod__(a, b)\n",
      " |      (a // b, a % b)\n",
      " |\n",
      " |  __eq__(a, b)\n",
      " |      a == b\n",
      " |\n",
      " |  __floor__(a)\n",
      " |      math.floor(a)\n",
      " |\n",
      " |  __floordiv__(a, b)\n",
      " |      a // b\n",
      " |\n",
      " |  __format__(self, format_spec, /)\n",
      " |      Format this fraction according to the given format specification.\n",
      " |\n",
      " |  __ge__(a, b)\n",
      " |      a >= b\n",
      " |\n",
      " |  __gt__(a, b)\n",
      " |      a > b\n",
      " |\n",
      " |  __hash__(self)\n",
      " |      hash(self)\n",
      " |\n",
      " |  __int__(a, _index=<built-in function index>)\n",
      " |      int(a)\n",
      " |\n",
      " |  __le__(a, b)\n",
      " |      a <= b\n",
      " |\n",
      " |  __lt__(a, b)\n",
      " |      a < b\n",
      " |\n",
      " |  __mod__(a, b)\n",
      " |      a % b\n",
      " |\n",
      " |  __mul__(a, b)\n",
      " |      a * b\n",
      " |\n",
      " |  __neg__(a)\n",
      " |      -a\n",
      " |\n",
      " |  __pos__(a)\n",
      " |      +a: Coerces a subclass instance to Fraction\n",
      " |\n",
      " |  __pow__(a, b)\n",
      " |      a ** b\n",
      " |\n",
      " |      If b is not an integer, the result will be a float or complex\n",
      " |      since roots are generally irrational. If b is an integer, the\n",
      " |      result will be rational.\n",
      " |\n",
      " |  __radd__(b, a)\n",
      " |      a + b\n",
      " |\n",
      " |  __rdivmod__(b, a)\n",
      " |      (a // b, a % b)\n",
      " |\n",
      " |  __reduce__(self)\n",
      " |      Helper for pickle.\n",
      " |\n",
      " |  __repr__(self)\n",
      " |      repr(self)\n",
      " |\n",
      " |  __rfloordiv__(b, a)\n",
      " |      a // b\n",
      " |\n",
      " |  __rmod__(b, a)\n",
      " |      a % b\n",
      " |\n",
      " |  __rmul__(b, a)\n",
      " |      a * b\n",
      " |\n",
      " |  __round__(self, ndigits=None)\n",
      " |      round(self, ndigits)\n",
      " |\n",
      " |      Rounds half toward even.\n",
      " |\n",
      " |  __rpow__(b, a)\n",
      " |      a ** b\n",
      " |\n",
      " |  __rsub__(b, a)\n",
      " |      a - b\n",
      " |\n",
      " |  __rtruediv__(b, a)\n",
      " |      a / b\n",
      " |\n",
      " |  __str__(self)\n",
      " |      str(self)\n",
      " |\n",
      " |  __sub__(a, b)\n",
      " |      a - b\n",
      " |\n",
      " |  __truediv__(a, b)\n",
      " |      a / b\n",
      " |\n",
      " |  __trunc__(a)\n",
      " |      math.trunc(a)\n",
      " |\n",
      " |  as_integer_ratio(self)\n",
      " |      Return a pair of integers, whose ratio is equal to the original Fraction.\n",
      " |\n",
      " |      The ratio is in lowest terms and has a positive denominator.\n",
      " |\n",
      " |  is_integer(self)\n",
      " |      Return True if the Fraction is an integer.\n",
      " |\n",
      " |  limit_denominator(self, max_denominator=1000000)\n",
      " |      Closest Fraction to self with denominator at most max_denominator.\n",
      " |\n",
      " |      >>> Fraction('3.141592653589793').limit_denominator(10)\n",
      " |      Fraction(22, 7)\n",
      " |      >>> Fraction('3.141592653589793').limit_denominator(100)\n",
      " |      Fraction(311, 99)\n",
      " |      >>> Fraction(4321, 8765).limit_denominator(10000)\n",
      " |      Fraction(4321, 8765)\n",
      " |\n",
      " |  ----------------------------------------------------------------------\n",
      " |  Class methods defined here:\n",
      " |\n",
      " |  from_decimal(dec) from abc.ABCMeta\n",
      " |      Converts a finite Decimal instance to a rational number, exactly.\n",
      " |\n",
      " |  from_float(f) from abc.ABCMeta\n",
      " |      Converts a finite float to a rational number, exactly.\n",
      " |\n",
      " |      Beware that Fraction.from_float(0.3) != Fraction(3, 10).\n",
      " |\n",
      " |  ----------------------------------------------------------------------\n",
      " |  Static methods defined here:\n",
      " |\n",
      " |  __new__(cls, numerator=0, denominator=None)\n",
      " |      Constructs a Rational.\n",
      " |\n",
      " |      Takes a string like '3/2' or '1.5', another Rational instance, a\n",
      " |      numerator/denominator pair, or a float.\n",
      " |\n",
      " |      Examples\n",
      " |      --------\n",
      " |\n",
      " |      >>> Fraction(10, -8)\n",
      " |      Fraction(-5, 4)\n",
      " |      >>> Fraction(Fraction(1, 7), 5)\n",
      " |      Fraction(1, 35)\n",
      " |      >>> Fraction(Fraction(1, 7), Fraction(2, 3))\n",
      " |      Fraction(3, 14)\n",
      " |      >>> Fraction('314')\n",
      " |      Fraction(314, 1)\n",
      " |      >>> Fraction('-35/4')\n",
      " |      Fraction(-35, 4)\n",
      " |      >>> Fraction('3.1415') # conversion from numeric string\n",
      " |      Fraction(6283, 2000)\n",
      " |      >>> Fraction('-47e-2') # string may include a decimal exponent\n",
      " |      Fraction(-47, 100)\n",
      " |      >>> Fraction(1.47)  # direct construction from float (exact conversion)\n",
      " |      Fraction(6620291452234629, 4503599627370496)\n",
      " |      >>> Fraction(2.25)\n",
      " |      Fraction(9, 4)\n",
      " |      >>> Fraction(Decimal('1.47'))\n",
      " |      Fraction(147, 100)\n",
      " |\n",
      " |  ----------------------------------------------------------------------\n",
      " |  Readonly properties defined here:\n",
      " |\n",
      " |  denominator\n",
      " |\n",
      " |  numerator\n",
      " |\n",
      " |  ----------------------------------------------------------------------\n",
      " |  Data and other attributes defined here:\n",
      " |\n",
      " |  __abstractmethods__ = frozenset()\n",
      " |\n",
      " |  ----------------------------------------------------------------------\n",
      " |  Methods inherited from numbers.Rational:\n",
      " |\n",
      " |  __float__(self)\n",
      " |      float(self) = self.numerator / self.denominator\n",
      " |\n",
      " |      It's important that this conversion use the integer's \"true\"\n",
      " |      division rather than casting one side to float before dividing\n",
      " |      so that ratios of huge integers convert without overflowing.\n",
      " |\n",
      " |  ----------------------------------------------------------------------\n",
      " |  Methods inherited from numbers.Real:\n",
      " |\n",
      " |  __complex__(self)\n",
      " |      complex(self) == complex(float(self), 0)\n",
      " |\n",
      " |  conjugate(self)\n",
      " |      Conjugate is a no-op for Reals.\n",
      " |\n",
      " |  ----------------------------------------------------------------------\n",
      " |  Readonly properties inherited from numbers.Real:\n",
      " |\n",
      " |  imag\n",
      " |      Real numbers have no imaginary component.\n",
      " |\n",
      " |  real\n",
      " |      Real numbers are their real component.\n",
      "\n"
     ]
    }
   ],
   "source": [
    "help(Fraction)"
   ]
  },
  {
   "cell_type": "code",
   "execution_count": 5,
   "metadata": {},
   "outputs": [
    {
     "data": {
      "text/plain": [
       "Fraction(1, 2)"
      ]
     },
     "execution_count": 5,
     "metadata": {},
     "output_type": "execute_result"
    }
   ],
   "source": [
    "Fraction(numerator=1, denominator=2)"
   ]
  },
  {
   "cell_type": "code",
   "execution_count": 6,
   "metadata": {},
   "outputs": [
    {
     "data": {
      "text/plain": [
       "Fraction(1, 2)"
      ]
     },
     "execution_count": 6,
     "metadata": {},
     "output_type": "execute_result"
    }
   ],
   "source": [
    "Fraction(1, 2)"
   ]
  },
  {
   "cell_type": "code",
   "execution_count": 7,
   "metadata": {},
   "outputs": [
    {
     "data": {
      "text/plain": [
       "Fraction(1, 8)"
      ]
     },
     "execution_count": 7,
     "metadata": {},
     "output_type": "execute_result"
    }
   ],
   "source": [
    "Fraction(0.125)  # 1/8"
   ]
  },
  {
   "cell_type": "code",
   "execution_count": 17,
   "metadata": {},
   "outputs": [
    {
     "name": "stdout",
     "output_type": "stream",
     "text": [
      "x: 2/3, y: 3/4\n",
      "--------------------\n",
      "  sum(+): 17/12\n",
      "  difference(-): -1/12\n",
      "  product(*): 1/2\n",
      "  quotient(/): 8/9\n"
     ]
    }
   ],
   "source": [
    "x = Fraction(2,3)\n",
    "y = Fraction(3,4)\n",
    "\n",
    "sum_xy = x + y  # 17/12\n",
    "difference_xy = x - y  # -1/12\n",
    "product_xy = x * y  # 1/2\n",
    "quotient_xy = x / y  # 8/9\n",
    "\n",
    "print(f\"x: {x}, y: {y}\")\n",
    "print(\"-\" * 20)\n",
    "print(f\"{' ' * 2}sum(+): {sum_xy}\")\n",
    "print(f\"{' ' * 2}difference(-): {difference_xy}\")\n",
    "print(f\"{' ' * 2}product(*): {product_xy}\")\n",
    "print(f\"{' ' * 2}quotient(/): {quotient_xy}\")\n"
   ]
  },
  {
   "cell_type": "code",
   "execution_count": 28,
   "metadata": {},
   "outputs": [
    {
     "name": "stdout",
     "output_type": "stream",
     "text": [
      "sqrt(2): 1.4142135623730951\n",
      "Fraction(sqrt(2)): 6369051672525773/4503599627370496\n",
      "Float(Fraction): 1.4142135623730951\n"
     ]
    }
   ],
   "source": [
    "sqrt_2 = math.sqrt(2)\n",
    "fr_sqrt_2 = Fraction(sqrt_2)\n",
    "val_from_fract = float(fr_sqrt_2)\n",
    "\n",
    "print(f\"sqrt(2): {sqrt_2}\")\n",
    "print(f\"Fraction(sqrt(2)): {fr_sqrt_2}\")\n",
    "print(f\"Float(Fraction): {val_from_fract}\")"
   ]
  },
  {
   "cell_type": "markdown",
   "metadata": {},
   "source": [
    "### Not all Floating point numbers can be represented exactly in computers\n"
   ]
  },
  {
   "cell_type": "code",
   "execution_count": 32,
   "metadata": {},
   "outputs": [
    {
     "name": "stdout",
     "output_type": "stream",
     "text": [
      "0.125\n"
     ]
    }
   ],
   "source": [
    "# for example\n",
    "a = 0.125\n",
    "print(a)"
   ]
  },
  {
   "cell_type": "code",
   "execution_count": 31,
   "metadata": {},
   "outputs": [
    {
     "name": "stdout",
     "output_type": "stream",
     "text": [
      "0.3\n"
     ]
    }
   ],
   "source": [
    "b = 0.3\n",
    "print(b)"
   ]
  },
  {
   "cell_type": "code",
   "execution_count": 33,
   "metadata": {},
   "outputs": [
    {
     "data": {
      "text/plain": [
       "Fraction(1, 8)"
      ]
     },
     "execution_count": 33,
     "metadata": {},
     "output_type": "execute_result"
    }
   ],
   "source": [
    "Fraction(a)"
   ]
  },
  {
   "cell_type": "code",
   "execution_count": 34,
   "metadata": {},
   "outputs": [
    {
     "data": {
      "text/plain": [
       "Fraction(5404319552844595, 18014398509481984)"
      ]
     },
     "execution_count": 34,
     "metadata": {},
     "output_type": "execute_result"
    }
   ],
   "source": [
    "# Should be 3/10, but it's not\n",
    "Fraction(b)"
   ]
  },
  {
   "cell_type": "code",
   "execution_count": 35,
   "metadata": {},
   "outputs": [
    {
     "name": "stdout",
     "output_type": "stream",
     "text": [
      "0.3\n"
     ]
    },
    {
     "data": {
      "text/plain": [
       "'0.30000'"
      ]
     },
     "execution_count": 35,
     "metadata": {},
     "output_type": "execute_result"
    }
   ],
   "source": [
    "print(b)\n",
    "format(b, '0.5f')"
   ]
  },
  {
   "cell_type": "code",
   "execution_count": 36,
   "metadata": {},
   "outputs": [
    {
     "data": {
      "text/plain": [
       "'0.300000000000000'"
      ]
     },
     "execution_count": 36,
     "metadata": {},
     "output_type": "execute_result"
    }
   ],
   "source": [
    "format(b, '0.15f')"
   ]
  },
  {
   "cell_type": "code",
   "execution_count": 37,
   "metadata": {},
   "outputs": [
    {
     "data": {
      "text/plain": [
       "'0.2999999999999999888977698'"
      ]
     },
     "execution_count": 37,
     "metadata": {},
     "output_type": "execute_result"
    }
   ],
   "source": [
    "# should be 0.3\n",
    "format(b, '0.25f')"
   ]
  }
 ],
 "metadata": {
  "kernelspec": {
   "display_name": "masterpy",
   "language": "python",
   "name": "python3"
  },
  "language_info": {
   "codemirror_mode": {
    "name": "ipython",
    "version": 3
   },
   "file_extension": ".py",
   "mimetype": "text/x-python",
   "name": "python",
   "nbconvert_exporter": "python",
   "pygments_lexer": "ipython3",
   "version": "3.12.0+"
  }
 },
 "nbformat": 4,
 "nbformat_minor": 2
}

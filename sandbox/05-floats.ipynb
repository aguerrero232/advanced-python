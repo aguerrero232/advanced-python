{
 "cells": [
  {
   "cell_type": "markdown",
   "metadata": {},
   "source": [
    "# Floating Point Numbers"
   ]
  },
  {
   "cell_type": "markdown",
   "metadata": {},
   "source": [
    "## Decimal Representation\n",
    "\n",
    "Numbers can be represented as base 10 integers and fractions\n",
    "\n",
    "For Example:"
   ]
  },
  {
   "cell_type": "markdown",
   "metadata": {},
   "source": [
    "$0.75 = 7/10 + 5/100 = 7 * 10^{-1} + 5 * 10^{-2}$\n",
    "\n",
    "$0.256 = 2/10 + 5/100 + 6/1000 = 2 * 10^{-1} + 5 * 10^{-2} + 6 * 10^{-3}$\n",
    "\n",
    "$123.456 = 1 * 100 + 2 * 10 + 3 * 1 + 4 * 1/10 + 5 * 1/100 + 6 * 1/1000 = 1 * 10^{2} + 2 * 10^{1} + 3 * 10^{0} + 4 * 10^{-1} + 5 * 10^{-2} + 6 * 10^{-3}$\n"
   ]
  },
  {
   "cell_type": "markdown",
   "metadata": {},
   "source": [
    "\n",
    "### A Decimal number can be generally represented as\n",
    "\n",
    "$$\n",
    "d = -1^{sign} \\sum_{i=-m}^n d_i * 10^i\n",
    "$$"
   ]
  },
  {
   "cell_type": "markdown",
   "metadata": {},
   "source": [
    "#### Some numbers cannot be represented using finite number of the above terms\n",
    "\n",
    "Numbers like $\\pi$ and $\\sqrt{2}$ cannot be represented using a finite number of terms. Even some rational numbers cannot be represented using a finite number of terms.\n",
    "\n",
    "For example: \n",
    "* $1/3$"
   ]
  },
  {
   "cell_type": "markdown",
   "metadata": {},
   "source": [
    "## Binary Representation\n",
    "\n",
    "Numbers can be represented as base 2 integers and fractions\n",
    "\n",
    "For Example:"
   ]
  },
  {
   "cell_type": "markdown",
   "metadata": {},
   "source": [
    "$(0.11)_2 = (1/2 + 1/4)_{10} = (0.5 + 0.25)_{10} = (0.75)_{10} = 1 * 2^{-1} + 1 * 2^{-2}$\n",
    "\n",
    "$(0.1101)_2 = (1/2 + 1/4 + 0/8 + 1/16)_{10} = (0.5 + 0.25 + 0 + 0.0625)_{10} = (0.8125)_{10} = 1 * 2^{-1} + 1 * 2^{-2} + 0 * 2^{-3} + 1 * 2^{-4}$"
   ]
  },
  {
   "cell_type": "markdown",
   "metadata": {},
   "source": [
    "\n",
    "\n",
    "these have an exact float representation"
   ]
  },
  {
   "cell_type": "markdown",
   "metadata": {},
   "source": [
    "### A Binary number can generally be represented as\n",
    "\n",
    "$$\n",
    "d = -1^{sign} \\sum_{i=-m}^n d_i * 2^i\n",
    "$$\n"
   ]
  },
  {
   "cell_type": "markdown",
   "metadata": {},
   "source": [
    "#### We have the same problem that decimal numbers have, some numbers cannot be represented using a finite number of the above terms\n",
    "\n",
    "For Example:\n"
   ]
  },
  {
   "cell_type": "markdown",
   "metadata": {},
   "source": [
    "\n",
    "$(0.1)_{10} = 1/10 = (0.000110001100011\\dots)_2 = (1/16 + 1/32 + 0/64 + 1/128 + 1/256 + 0/512 + 0/1024 + 1/2048 + 1/4096 + \\dots)_{10}$"
   ]
  },
  {
   "cell_type": "markdown",
   "metadata": {},
   "source": [
    "\n",
    "\n",
    "this has an approximate float representation since it is an infinite series"
   ]
  },
  {
   "cell_type": "code",
   "execution_count": 53,
   "metadata": {},
   "outputs": [
    {
     "name": "stdout",
     "output_type": "stream",
     "text": [
      "Help on class float in module builtins:\n",
      "\n",
      "class float(object)\n",
      " |  float(x=0, /)\n",
      " |\n",
      " |  Convert a string or number to a floating point number, if possible.\n",
      " |\n",
      " |  Methods defined here:\n",
      " |\n",
      " |  __abs__(self, /)\n",
      " |      abs(self)\n",
      " |\n",
      " |  __add__(self, value, /)\n",
      " |      Return self+value.\n",
      " |\n",
      " |  __bool__(self, /)\n",
      " |      True if self else False\n",
      " |\n",
      " |  __ceil__(self, /)\n",
      " |      Return the ceiling as an Integral.\n",
      " |\n",
      " |  __divmod__(self, value, /)\n",
      " |      Return divmod(self, value).\n",
      " |\n",
      " |  __eq__(self, value, /)\n",
      " |      Return self==value.\n",
      " |\n",
      " |  __float__(self, /)\n",
      " |      float(self)\n",
      " |\n",
      " |  __floor__(self, /)\n",
      " |      Return the floor as an Integral.\n",
      " |\n",
      " |  __floordiv__(self, value, /)\n",
      " |      Return self//value.\n",
      " |\n",
      " |  __format__(self, format_spec, /)\n",
      " |      Formats the float according to format_spec.\n",
      " |\n",
      " |  __ge__(self, value, /)\n",
      " |      Return self>=value.\n",
      " |\n",
      " |  __getattribute__(self, name, /)\n",
      " |      Return getattr(self, name).\n",
      " |\n",
      " |  __getnewargs__(self, /)\n",
      " |\n",
      " |  __gt__(self, value, /)\n",
      " |      Return self>value.\n",
      " |\n",
      " |  __hash__(self, /)\n",
      " |      Return hash(self).\n",
      " |\n",
      " |  __int__(self, /)\n",
      " |      int(self)\n",
      " |\n",
      " |  __le__(self, value, /)\n",
      " |      Return self<=value.\n",
      " |\n",
      " |  __lt__(self, value, /)\n",
      " |      Return self<value.\n",
      " |\n",
      " |  __mod__(self, value, /)\n",
      " |      Return self%value.\n",
      " |\n",
      " |  __mul__(self, value, /)\n",
      " |      Return self*value.\n",
      " |\n",
      " |  __ne__(self, value, /)\n",
      " |      Return self!=value.\n",
      " |\n",
      " |  __neg__(self, /)\n",
      " |      -self\n",
      " |\n",
      " |  __pos__(self, /)\n",
      " |      +self\n",
      " |\n",
      " |  __pow__(self, value, mod=None, /)\n",
      " |      Return pow(self, value, mod).\n",
      " |\n",
      " |  __radd__(self, value, /)\n",
      " |      Return value+self.\n",
      " |\n",
      " |  __rdivmod__(self, value, /)\n",
      " |      Return divmod(value, self).\n",
      " |\n",
      " |  __repr__(self, /)\n",
      " |      Return repr(self).\n",
      " |\n",
      " |  __rfloordiv__(self, value, /)\n",
      " |      Return value//self.\n",
      " |\n",
      " |  __rmod__(self, value, /)\n",
      " |      Return value%self.\n",
      " |\n",
      " |  __rmul__(self, value, /)\n",
      " |      Return value*self.\n",
      " |\n",
      " |  __round__(self, ndigits=None, /)\n",
      " |      Return the Integral closest to x, rounding half toward even.\n",
      " |\n",
      " |      When an argument is passed, work like built-in round(x, ndigits).\n",
      " |\n",
      " |  __rpow__(self, value, mod=None, /)\n",
      " |      Return pow(value, self, mod).\n",
      " |\n",
      " |  __rsub__(self, value, /)\n",
      " |      Return value-self.\n",
      " |\n",
      " |  __rtruediv__(self, value, /)\n",
      " |      Return value/self.\n",
      " |\n",
      " |  __sub__(self, value, /)\n",
      " |      Return self-value.\n",
      " |\n",
      " |  __truediv__(self, value, /)\n",
      " |      Return self/value.\n",
      " |\n",
      " |  __trunc__(self, /)\n",
      " |      Return the Integral closest to x between 0 and x.\n",
      " |\n",
      " |  as_integer_ratio(self, /)\n",
      " |      Return a pair of integers, whose ratio is exactly equal to the original float.\n",
      " |\n",
      " |      The ratio is in lowest terms and has a positive denominator.  Raise\n",
      " |      OverflowError on infinities and a ValueError on NaNs.\n",
      " |\n",
      " |      >>> (10.0).as_integer_ratio()\n",
      " |      (10, 1)\n",
      " |      >>> (0.0).as_integer_ratio()\n",
      " |      (0, 1)\n",
      " |      >>> (-.25).as_integer_ratio()\n",
      " |      (-1, 4)\n",
      " |\n",
      " |  conjugate(self, /)\n",
      " |      Return self, the complex conjugate of any float.\n",
      " |\n",
      " |  hex(self, /)\n",
      " |      Return a hexadecimal representation of a floating-point number.\n",
      " |\n",
      " |      >>> (-0.1).hex()\n",
      " |      '-0x1.999999999999ap-4'\n",
      " |      >>> 3.14159.hex()\n",
      " |      '0x1.921f9f01b866ep+1'\n",
      " |\n",
      " |  is_integer(self, /)\n",
      " |      Return True if the float is an integer.\n",
      " |\n",
      " |  ----------------------------------------------------------------------\n",
      " |  Class methods defined here:\n",
      " |\n",
      " |  __getformat__(typestr, /) from builtins.type\n",
      " |      You probably don't want to use this function.\n",
      " |\n",
      " |        typestr\n",
      " |          Must be 'double' or 'float'.\n",
      " |\n",
      " |      It exists mainly to be used in Python's test suite.\n",
      " |\n",
      " |      This function returns whichever of 'unknown', 'IEEE, big-endian' or 'IEEE,\n",
      " |      little-endian' best describes the format of floating point numbers used by the\n",
      " |      C type named by typestr.\n",
      " |\n",
      " |  fromhex(string, /) from builtins.type\n",
      " |      Create a floating-point number from a hexadecimal string.\n",
      " |\n",
      " |      >>> float.fromhex('0x1.ffffp10')\n",
      " |      2047.984375\n",
      " |      >>> float.fromhex('-0x1p-1074')\n",
      " |      -5e-324\n",
      " |\n",
      " |  ----------------------------------------------------------------------\n",
      " |  Static methods defined here:\n",
      " |\n",
      " |  __new__(*args, **kwargs) from builtins.type\n",
      " |      Create and return a new object.  See help(type) for accurate signature.\n",
      " |\n",
      " |  ----------------------------------------------------------------------\n",
      " |  Data descriptors defined here:\n",
      " |\n",
      " |  imag\n",
      " |      the imaginary part of a complex number\n",
      " |\n",
      " |  real\n",
      " |      the real part of a complex number\n",
      "\n"
     ]
    }
   ],
   "source": [
    "help(float)"
   ]
  },
  {
   "cell_type": "code",
   "execution_count": 54,
   "metadata": {},
   "outputs": [
    {
     "data": {
      "text/plain": [
       "10.0"
      ]
     },
     "execution_count": 54,
     "metadata": {},
     "output_type": "execute_result"
    }
   ],
   "source": [
    "float(10)"
   ]
  },
  {
   "cell_type": "code",
   "execution_count": 55,
   "metadata": {},
   "outputs": [
    {
     "data": {
      "text/plain": [
       "10.4"
      ]
     },
     "execution_count": 55,
     "metadata": {},
     "output_type": "execute_result"
    }
   ],
   "source": [
    "float(10.4)"
   ]
  },
  {
   "cell_type": "code",
   "execution_count": 56,
   "metadata": {},
   "outputs": [
    {
     "data": {
      "text/plain": [
       "12.4"
      ]
     },
     "execution_count": 56,
     "metadata": {},
     "output_type": "execute_result"
    }
   ],
   "source": [
    "float('12.4')"
   ]
  },
  {
   "cell_type": "code",
   "execution_count": 57,
   "metadata": {},
   "outputs": [
    {
     "ename": "ValueError",
     "evalue": "could not convert string to float: '22/7'",
     "output_type": "error",
     "traceback": [
      "\u001b[0;31m---------------------------------------------------------------------------\u001b[0m",
      "\u001b[0;31mValueError\u001b[0m                                Traceback (most recent call last)",
      "\u001b[1;32m/home/guerrero/code/learning/advanced-python/sandbox/05-floats.ipynb Cell 17\u001b[0m line \u001b[0;36m2\n\u001b[1;32m      <a href='vscode-notebook-cell://ssh-remote%2Bworkstation/home/guerrero/code/learning/advanced-python/sandbox/05-floats.ipynb#X14sdnNjb2RlLXJlbW90ZQ%3D%3D?line=0'>1</a>\u001b[0m \u001b[39m# Value Error\u001b[39;00m\n\u001b[0;32m----> <a href='vscode-notebook-cell://ssh-remote%2Bworkstation/home/guerrero/code/learning/advanced-python/sandbox/05-floats.ipynb#X14sdnNjb2RlLXJlbW90ZQ%3D%3D?line=1'>2</a>\u001b[0m \u001b[39mfloat\u001b[39;49m(\u001b[39m'\u001b[39;49m\u001b[39m22/7\u001b[39;49m\u001b[39m'\u001b[39;49m)\n",
      "\u001b[0;31mValueError\u001b[0m: could not convert string to float: '22/7'"
     ]
    }
   ],
   "source": [
    "# Value Error\n",
    "float('22/7')"
   ]
  },
  {
   "cell_type": "code",
   "execution_count": 58,
   "metadata": {},
   "outputs": [],
   "source": [
    "from fractions import Fraction"
   ]
  },
  {
   "cell_type": "code",
   "execution_count": 59,
   "metadata": {},
   "outputs": [
    {
     "data": {
      "text/plain": [
       "3.142857142857143"
      ]
     },
     "execution_count": 59,
     "metadata": {},
     "output_type": "execute_result"
    }
   ],
   "source": [
    "a = Fraction('22/7')\n",
    "float(a)"
   ]
  },
  {
   "cell_type": "code",
   "execution_count": 60,
   "metadata": {},
   "outputs": [
    {
     "name": "stdout",
     "output_type": "stream",
     "text": [
      "0.1\n"
     ]
    }
   ],
   "source": [
    "# python is fooling us printing this out\n",
    "print(0.1)"
   ]
  },
  {
   "cell_type": "code",
   "execution_count": 61,
   "metadata": {},
   "outputs": [
    {
     "data": {
      "text/plain": [
       "'0.1000000000000000055511151'"
      ]
     },
     "execution_count": 61,
     "metadata": {},
     "output_type": "execute_result"
    }
   ],
   "source": [
    "# you can see here its slightly off the actual value\n",
    "format(0.1, '.25f')"
   ]
  },
  {
   "cell_type": "code",
   "execution_count": 62,
   "metadata": {},
   "outputs": [
    {
     "data": {
      "text/plain": [
       "False"
      ]
     },
     "execution_count": 62,
     "metadata": {},
     "output_type": "execute_result"
    }
   ],
   "source": [
    "# why is this an issue?\n",
    "#  check this out\n",
    "\n",
    "a = 0.1 + 0.1 + 0.1\n",
    "b = 0.3\n",
    "\n",
    "# a is not equal to b even though it should be\n",
    "a == b"
   ]
  },
  {
   "cell_type": "code",
   "execution_count": 63,
   "metadata": {},
   "outputs": [
    {
     "data": {
      "text/plain": [
       "'0.3000000000000000444089210'"
      ]
     },
     "execution_count": 63,
     "metadata": {},
     "output_type": "execute_result"
    }
   ],
   "source": [
    "format(a, '.25f')"
   ]
  },
  {
   "cell_type": "code",
   "execution_count": 64,
   "metadata": {},
   "outputs": [
    {
     "data": {
      "text/plain": [
       "'0.2999999999999999888977698'"
      ]
     },
     "execution_count": 64,
     "metadata": {},
     "output_type": "execute_result"
    }
   ],
   "source": [
    "format(b, '.25f')"
   ]
  },
  {
   "cell_type": "markdown",
   "metadata": {},
   "source": [
    "## Eqality Testing"
   ]
  },
  {
   "cell_type": "code",
   "execution_count": 65,
   "metadata": {},
   "outputs": [],
   "source": [
    "import math"
   ]
  },
  {
   "cell_type": "code",
   "execution_count": 66,
   "metadata": {},
   "outputs": [
    {
     "data": {
      "text/plain": [
       "True"
      ]
     },
     "execution_count": 66,
     "metadata": {},
     "output_type": "execute_result"
    }
   ],
   "source": [
    "round(a, 3) == round(b, 3)  # works but not the best way to do it"
   ]
  },
  {
   "cell_type": "code",
   "execution_count": 67,
   "metadata": {},
   "outputs": [
    {
     "data": {
      "text/plain": [
       "True"
      ]
     },
     "execution_count": 67,
     "metadata": {},
     "output_type": "execute_result"
    }
   ],
   "source": [
    "x = .01\n",
    "y = .04\n",
    "\n",
    "round(x, 1) == round(y, 1)"
   ]
  },
  {
   "cell_type": "code",
   "execution_count": 68,
   "metadata": {},
   "outputs": [
    {
     "data": {
      "text/plain": [
       "True"
      ]
     },
     "execution_count": 68,
     "metadata": {},
     "output_type": "execute_result"
    }
   ],
   "source": [
    "x = 10000.01\n",
    "y = 10000.02\n",
    "\n",
    "round(x, 1) == round(y, 1)"
   ]
  },
  {
   "cell_type": "code",
   "execution_count": 69,
   "metadata": {},
   "outputs": [
    {
     "data": {
      "text/plain": [
       "True"
      ]
     },
     "execution_count": 69,
     "metadata": {},
     "output_type": "execute_result"
    }
   ],
   "source": [
    "# you could use the math module to check if they are close\n",
    "math.isclose(a, b)"
   ]
  },
  {
   "cell_type": "code",
   "execution_count": 70,
   "metadata": {},
   "outputs": [
    {
     "data": {
      "text/plain": [
       "False"
      ]
     },
     "execution_count": 70,
     "metadata": {},
     "output_type": "execute_result"
    }
   ],
   "source": [
    "# would mess up for this though\n",
    "x = .0000001\n",
    "y = .0000002\n",
    "math.isclose(x, y)"
   ]
  },
  {
   "cell_type": "code",
   "execution_count": 71,
   "metadata": {},
   "outputs": [
    {
     "data": {
      "text/plain": [
       "True"
      ]
     },
     "execution_count": 71,
     "metadata": {},
     "output_type": "execute_result"
    }
   ],
   "source": [
    "# To fix this we can provide a relative and absolute tolerance\n",
    "math.isclose(x, y, rel_tol=0.01, abs_tol=0.01)"
   ]
  },
  {
   "cell_type": "code",
   "execution_count": 72,
   "metadata": {},
   "outputs": [
    {
     "name": "stdout",
     "output_type": "stream",
     "text": [
      "True\n",
      "True\n"
     ]
    }
   ],
   "source": [
    "x = 0.0000001\n",
    "y = 0.0000002\n",
    "\n",
    "a = 123456789.01\n",
    "b = 123456789.02\n",
    "\n",
    "print(math.isclose(x, y, abs_tol=0.0001, rel_tol=0.01))\n",
    "print(math.isclose(a, b, abs_tol=0.0001, rel_tol=0.01))"
   ]
  },
  {
   "cell_type": "markdown",
   "metadata": {},
   "source": [
    "## Float -> Integer\n",
    "\n",
    "There will be data loss when converting a float to an integer.\n",
    "\n",
    "There are different ways to do this conversion:\n",
    "\n",
    "i.e. \n",
    "* 10.4... is it 10 or 11?\n",
    "* 10.5... is it 10 or 11?\n",
    "* 10.6... is it 10 or 11?\n",
    "* 10.9... is it 10 or 11?\n",
    "* 10.00001... is it 10 or 11?\n",
    "* 10.99999... is it 10 or 11?\n",
    "\n"
   ]
  },
  {
   "cell_type": "code",
   "execution_count": 73,
   "metadata": {},
   "outputs": [
    {
     "name": "stdout",
     "output_type": "stream",
     "text": [
      "Help on built-in function trunc in module math:\n",
      "\n",
      "trunc(x, /)\n",
      "    Truncates the Real x to the nearest Integral toward 0.\n",
      "\n",
      "    Uses the __trunc__ magic method.\n",
      "\n"
     ]
    }
   ],
   "source": [
    "help(math.trunc)"
   ]
  },
  {
   "cell_type": "code",
   "execution_count": 74,
   "metadata": {},
   "outputs": [
    {
     "name": "stdout",
     "output_type": "stream",
     "text": [
      "a: 10, b: 10, c: -10, d: 10, e: 10, f: 10\n"
     ]
    }
   ],
   "source": [
    "# the math module also has a function truncate numbers after a certain number of decimal places\n",
    "a = math.trunc(10.4)\n",
    "b = math.trunc(10.5)\n",
    "c = math.trunc(-10.6)\n",
    "d = math.trunc(10.9)\n",
    "e = math.trunc(10.000001)\n",
    "f = math.trunc(10.999999)\n",
    "\n",
    "\n",
    "print(f\"a: {a}, b: {b}, c: {c}, d: {d}, e: {e}, f: {f}\")"
   ]
  },
  {
   "cell_type": "code",
   "execution_count": 75,
   "metadata": {},
   "outputs": [
    {
     "name": "stdout",
     "output_type": "stream",
     "text": [
      "a: 10, b: 10, c: -10, d: 10, e: 10, f: 10\n"
     ]
    }
   ],
   "source": [
    "# The int constructor truncates floats as well\n",
    "a = int(10.4)\n",
    "b = int(10.5)\n",
    "c = int(-10.6)\n",
    "d = int(10.9)\n",
    "e = int(10.000001)\n",
    "f = int(10.999999)\n",
    "\n",
    "print(f\"a: {a}, b: {b}, c: {c}, d: {d}, e: {e}, f: {f}\")"
   ]
  },
  {
   "cell_type": "code",
   "execution_count": 76,
   "metadata": {},
   "outputs": [
    {
     "name": "stdout",
     "output_type": "stream",
     "text": [
      "a: 10, b: 10, c: -11, d: 10, e: 10, f: 10\n"
     ]
    }
   ],
   "source": [
    "# Use floor to get the largest integer less than or equal to the number\n",
    "a = math.floor(10.4)\n",
    "b = math.floor(10.5)\n",
    "c = math.floor(-10.6)  # -10.6 is greater than -11 so -11 is the largest integer less than or equal to -10.6 \n",
    "d = math.floor(10.9)\n",
    "e = math.floor(10.000001)\n",
    "f = math.floor(10.999999)\n",
    "\n",
    "print(f\"a: {a}, b: {b}, c: {c}, d: {d}, e: {e}, f: {f}\")"
   ]
  },
  {
   "cell_type": "code",
   "execution_count": 77,
   "metadata": {},
   "outputs": [
    {
     "name": "stdout",
     "output_type": "stream",
     "text": [
      "a: 11, b: 11, c: -10, d: 11, e: 11, f: 11\n"
     ]
    }
   ],
   "source": [
    "# Use ceil to get the smallest integer greater than or equal to the number\n",
    "\n",
    "a = math.ceil(10.4)\n",
    "b = math.ceil(10.5)\n",
    "c = math.ceil(-10.6)  # -10.6 is less than -10 so -10 is the smallest integer greater than or equal to -10.6\n",
    "d = math.ceil(10.9)\n",
    "e = math.ceil(10.000001)\n",
    "f = math.ceil(10.999999)\n",
    "\n",
    "print(f\"a: {a}, b: {b}, c: {c}, d: {d}, e: {e}, f: {f}\")"
   ]
  },
  {
   "cell_type": "code",
   "execution_count": 78,
   "metadata": {},
   "outputs": [
    {
     "name": "stdout",
     "output_type": "stream",
     "text": [
      "a: 10, b: 10, c: -11, d: 11, e: 10, f: 11\n"
     ]
    }
   ],
   "source": [
    "# Use round to get the closest integer to the number\n",
    "# round is calculating the distance to the closest integers and rounding to the closest one (multiple of 10)\n",
    "\n",
    "a = round(10.4)\n",
    "b = round(10.5)\n",
    "c = round(-10.6)\n",
    "d = round(10.9)\n",
    "e = round(10.000001)\n",
    "f = round(10.999999)\n",
    "\n",
    "print(f\"a: {a}, b: {b}, c: {c}, d: {d}, e: {e}, f: {f}\")"
   ]
  },
  {
   "cell_type": "code",
   "execution_count": 79,
   "metadata": {},
   "outputs": [
    {
     "data": {
      "text/plain": [
       "20.0"
      ]
     },
     "execution_count": 79,
     "metadata": {},
     "output_type": "execute_result"
    }
   ],
   "source": [
    "\"\"\" You can even round before the decimal point using negative numbers (to the closest multiple of 10)\n",
    "\n",
    "imagine a number line\n",
    "    10          18.2     20\n",
    "----*------------x-------*----\n",
    "    <-----8.2---> <-1.8->\n",
    "\"\"\"\n",
    "\n",
    "round(18.2, -1)"
   ]
  },
  {
   "cell_type": "code",
   "execution_count": 80,
   "metadata": {},
   "outputs": [
    {
     "data": {
      "text/plain": [
       "1.2"
      ]
     },
     "execution_count": 80,
     "metadata": {},
     "output_type": "execute_result"
    }
   ],
   "source": [
    "# what about ties????\n",
    "\n",
    "\"\"\"\n",
    "is 1.25 closer to 1.2 or 1.3?\n",
    "\n",
    "number line\n",
    "    1.2     1.25    1.3\n",
    "----*--------x--------*----\n",
    "    <--.05--> <--.05-->\n",
    "\"\"\"\n",
    "x = 1.25\n",
    "\n",
    "# there is not one, we have to determine how to break the tie\n",
    "# the best way to do this is to round away from zero\n",
    "# but python uses bankers rounding which rounds to the nearest value with an even least significant digit\n",
    "\n",
    "round(x, 1)"
   ]
  },
  {
   "cell_type": "code",
   "execution_count": 81,
   "metadata": {},
   "outputs": [
    {
     "name": "stdout",
     "output_type": "stream",
     "text": [
      "a: 20, b: 20\n"
     ]
    }
   ],
   "source": [
    "# example rounding n (decimal places) = -1\n",
    "\n",
    "a = round(15, -1)\n",
    "b = round(25, -1)\n",
    "\n",
    "print(f\"a: {a}, b: {b}\")  # both round to 20 because of bankers rounding"
   ]
  },
  {
   "cell_type": "code",
   "execution_count": 82,
   "metadata": {},
   "outputs": [
    {
     "name": "stdout",
     "output_type": "stream",
     "text": [
      "afz_rounding_avg: 2.0, bankers_rounding_avg: 1.3333333333333333, actual_avg: 1.5\n"
     ]
    }
   ],
   "source": [
    "# why does python use bankers rounding?\n",
    "# it is statistically more accurate, and less biased\n",
    "\n",
    "# i.e\n",
    "\n",
    "num_1, num_2, num_3 = .5, 1.5, 2.5\n",
    "\n",
    "afz_rounding_avg = 6/3\n",
    "bankers_rounding_avg = sum(round(n) for n in [num_1, num_2, num_3]) / 3\n",
    "\n",
    "actual_avg = sum([num_1, num_2, num_3]) / 3\n",
    "\n",
    "print(f\"afz_rounding_avg: {afz_rounding_avg}, bankers_rounding_avg: {bankers_rounding_avg}, actual_avg: {actual_avg}\")\n"
   ]
  },
  {
   "cell_type": "code",
   "execution_count": 87,
   "metadata": {},
   "outputs": [
    {
     "name": "stdout",
     "output_type": "stream",
     "text": [
      "a: 11, b: 12, c: -11, d: -12, e: 11, f: 11, g: -10, h: -12\n"
     ]
    }
   ],
   "source": [
    "# How to actually round away from zero\n",
    "def round_away_from_zero(number):\n",
    "    return int(number + math.copysign(0.5, number))\n",
    "\n",
    "a = 10.5\n",
    "b = 11.5\n",
    "c = -10.5\n",
    "d = -11.5\n",
    "e = 10.51\n",
    "f = 11.49\n",
    "g = -10.49\n",
    "h = -11.51\n",
    "\n",
    "print(f\"a: {round_away_from_zero(a)}, b: {round_away_from_zero(b)}, c: {round_away_from_zero(c)}, d: {round_away_from_zero(d)}, e: {round_away_from_zero(e)}, f: {round_away_from_zero(f)}, g: {round_away_from_zero(g)}, h: {round_away_from_zero(h)}\")"
   ]
  }
 ],
 "metadata": {
  "kernelspec": {
   "display_name": "masterpy",
   "language": "python",
   "name": "python3"
  },
  "language_info": {
   "codemirror_mode": {
    "name": "ipython",
    "version": 3
   },
   "file_extension": ".py",
   "mimetype": "text/x-python",
   "name": "python",
   "nbconvert_exporter": "python",
   "pygments_lexer": "ipython3",
   "version": "3.12.0+"
  }
 },
 "nbformat": 4,
 "nbformat_minor": 2
}
